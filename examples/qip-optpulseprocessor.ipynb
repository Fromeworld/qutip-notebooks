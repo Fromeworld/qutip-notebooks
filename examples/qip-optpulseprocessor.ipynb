{
 "cells": [
  {
   "cell_type": "markdown",
   "metadata": {},
   "source": [
    "# Examples for OptPulseProcessor"
   ]
  },
  {
   "cell_type": "markdown",
   "metadata": {},
   "source": [
    "Author: Boxi Li (etamin1201@gmail.com)"
   ]
  },
  {
   "cell_type": "code",
   "execution_count": 1,
   "metadata": {},
   "outputs": [],
   "source": [
    "from numpy import pi\n",
    "from qutip.qip.device import OptPulseProcessor\n",
    "from qutip.qip import QubitCircuit, expand_operator\n",
    "from qutip import sigmaz, sigmax, basis, fidelity, identity, toffoli, tensor"
   ]
  },
  {
   "cell_type": "markdown",
   "metadata": {},
   "source": [
    "The `qutip.OptPulseProcessor` is a noisy quantum device simulator integrated with the optimal pulse algorithm from the `qutip.control` module. It is a subclass of `qutip.Processor` and is equipped with a method to find the optimal pulse sequence (hence the name `OptPulseProcessor`) for a `qutip.QubitCircuit` or a list of `qutip.Qobj`. For the user guide of `qutip.Processor`, please refer to [the introductory notebook](qip-noisy-device-simulator.ipynb).\n",
    "\n",
    "## Single-qubit gate\n",
    "Like in the parent class `Processor`, we need to first define the available Hamiltonians in the system. The `OptPulseProcessor` has one more parameter, the drift Hamiltonian, which has no time-dependent coefficients and thus won't be optimized."
   ]
  },
  {
   "cell_type": "code",
   "execution_count": 2,
   "metadata": {},
   "outputs": [],
   "source": [
    "N = 1\n",
    "# Drift Hamiltonian\n",
    "H_d = sigmaz()\n",
    "# The (single) control Hamiltonian\n",
    "H_c = [sigmax()]\n",
    "processor = OptPulseProcessor(N, drift=H_d, ctrls=H_c)"
   ]
  },
  {
   "cell_type": "markdown",
   "metadata": {},
   "source": [
    "The method `load_circuit` calls `qutip.control.optimize_pulse_unitary` and returns the pulse coefficients."
   ]
  },
  {
   "cell_type": "code",
   "execution_count": 3,
   "metadata": {},
   "outputs": [
    {
     "data": {
      "image/png": "[encoded data removed]",
      "text/plain": [
       "<Figure size 432x288 with 1 Axes>"
      ]
     },
     "metadata": {
      "needs_background": "light"
     },
     "output_type": "display_data"
    }
   ],
   "source": [
    "qc = QubitCircuit(N)\n",
    "qc.add_gate(\"SNOT\", 0)\n",
    "\n",
    "# This method calls optimize_pulse_unitary\n",
    "tlist, coeffs = processor.load_circuit(qc, min_grad=1e-20, init_pulse_type='RND',\n",
    "                                       num_tslots=6, evo_time=1)\n",
    "processor.plot_pulses(title=\"Control pulse for the Hadamard gate\");"
   ]
  },
  {
   "cell_type": "markdown",
   "metadata": {},
   "source": [
    "Like the `Processor`, the simulation is calculated with a QuTiP solver. The method `run_state` calls `mesolve` and returns the result. One can also add noise to observe the change in the fidelity, e.g. the t1 decoherence time."
   ]
  },
  {
   "cell_type": "code",
   "execution_count": 4,
   "metadata": {},
   "outputs": [
    {
     "name": "stdout",
     "output_type": "stream",
     "text": [
      "Fidelity: 1.0000000086782836\n",
      "Fidelity with qubit relaxation: 0.9934054397915538\n"
     ]
    }
   ],
   "source": [
    "rho0 = basis(2,1)\n",
    "plus = (basis(2,0) + basis(2,1)).unit()\n",
    "minus = (basis(2,0) - basis(2,1)).unit()\n",
    "result = processor.run_state(rho0=rho0)\n",
    "result.states[-3]\n",
    "print(\"Fidelity:\", fidelity(result.states[-1], minus))\n",
    "\n",
    "# add noise\n",
    "processor.t1 = 40.0\n",
    "result = processor.run_state(rho0=rho0)\n",
    "print(\"Fidelity with qubit relaxation:\", fidelity(result.states[-1], minus))"
   ]
  },
  {
   "cell_type": "markdown",
   "metadata": {},
   "source": [
    "## Multi-qubit gate"
   ]
  },
  {
   "cell_type": "markdown",
   "metadata": {},
   "source": [
    "In the following example, we use `OptPulseProcessor` to find the optimal control pulse of a multi-qubit circuit. For simplicity, the circuit contains only one Toffoli gate."
   ]
  },
  {
   "cell_type": "code",
   "execution_count": 5,
   "metadata": {},
   "outputs": [
    {
     "data": {
      "text/latex": [
       "Quantum object: dims = [[2, 2, 2], [2, 2, 2]], shape = (8, 8), type = oper, isherm = True\\begin{equation*}\\left(\\begin{array}{*{11}c}1.0 & 0.0 & 0.0 & 0.0 & 0.0 & 0.0 & 0.0 & 0.0\\\\0.0 & 1.0 & 0.0 & 0.0 & 0.0 & 0.0 & 0.0 & 0.0\\\\0.0 & 0.0 & 1.0 & 0.0 & 0.0 & 0.0 & 0.0 & 0.0\\\\0.0 & 0.0 & 0.0 & 1.0 & 0.0 & 0.0 & 0.0 & 0.0\\\\0.0 & 0.0 & 0.0 & 0.0 & 1.0 & 0.0 & 0.0 & 0.0\\\\0.0 & 0.0 & 0.0 & 0.0 & 0.0 & 1.0 & 0.0 & 0.0\\\\0.0 & 0.0 & 0.0 & 0.0 & 0.0 & 0.0 & 0.0 & 1.0\\\\0.0 & 0.0 & 0.0 & 0.0 & 0.0 & 0.0 & 1.0 & 0.0\\\\\\end{array}\\right)\\end{equation*}"
      ],
      "text/plain": [
       "Quantum object: dims = [[2, 2, 2], [2, 2, 2]], shape = (8, 8), type = oper, isherm = True\n",
       "Qobj data =\n",
       "[[1. 0. 0. 0. 0. 0. 0. 0.]\n",
       " [0. 1. 0. 0. 0. 0. 0. 0.]\n",
       " [0. 0. 1. 0. 0. 0. 0. 0.]\n",
       " [0. 0. 0. 1. 0. 0. 0. 0.]\n",
       " [0. 0. 0. 0. 1. 0. 0. 0.]\n",
       " [0. 0. 0. 0. 0. 1. 0. 0.]\n",
       " [0. 0. 0. 0. 0. 0. 0. 1.]\n",
       " [0. 0. 0. 0. 0. 0. 1. 0.]]"
      ]
     },
     "execution_count": 5,
     "metadata": {},
     "output_type": "execute_result"
    }
   ],
   "source": [
    "toffoli()"
   ]
  },
  {
   "cell_type": "markdown",
   "metadata": {},
   "source": [
    "We have single-qubit control $\\sigma_x$ and $\\sigma_z$, with the argument `cyclic_permutation=True`, it creates 3 operators each targeted on one qubit."
   ]
  },
  {
   "cell_type": "code",
   "execution_count": 6,
   "metadata": {},
   "outputs": [],
   "source": [
    "N = 3\n",
    "H_d = tensor([identity(2)] * 3)\n",
    "test_processor = OptPulseProcessor(N, H_d, [])\n",
    "test_processor.add_ctrl(sigmaz(), cyclic_permutation=True)\n",
    "test_processor.add_ctrl(sigmax(), cyclic_permutation=True)"
   ]
  },
  {
   "cell_type": "markdown",
   "metadata": {},
   "source": [
    "The interaction is generated by $\\sigma_x\\sigma_x$ between the qubit 0 & 1 and qubit 1 & 2. `expand_operator` can be used to expand the operator to a larger dimension with given target qubits."
   ]
  },
  {
   "cell_type": "code",
   "execution_count": 7,
   "metadata": {},
   "outputs": [],
   "source": [
    "sxsx = tensor([sigmax(),sigmax()])\n",
    "sxsx01 = expand_operator(sxsx, N=3, targets=[0,1])\n",
    "sxsx12 = expand_operator(sxsx, N=3, targets=[1,2])\n",
    "test_processor.add_ctrl(sxsx01)\n",
    "test_processor.add_ctrl(sxsx12)"
   ]
  },
  {
   "cell_type": "markdown",
   "metadata": {},
   "source": [
    "Use the above defined control Hamiltonians, we now find the optimal pulse for the Toffoli gate with 6 time slots. Instead of a `QubitCircuit`, a list of operators can also be given as an input. Different color in the figure represents different control pulses."
   ]
  },
  {
   "cell_type": "code",
   "execution_count": 8,
   "metadata": {},
   "outputs": [
    {
     "name": "stdout",
     "output_type": "stream",
     "text": [
      "********** Gate 0 **********\n",
      "Final fidelity error 6.158726861826835e-09\n",
      "Final gradient normal 1.3034402663184377e-05\n",
      "Terminated due to function converged\n",
      "Number of iterations 315\n"
     ]
    },
    {
     "data": {
      "image/png": "[encoded data removed]",
      "text/plain": [
       "<Figure size 432x288 with 1 Axes>"
      ]
     },
     "metadata": {
      "needs_background": "light"
     },
     "output_type": "display_data"
    }
   ],
   "source": [
    "test_processor.load_circuit([toffoli()], num_tslots=6, evo_time=1, verbose=True);\n",
    "\n",
    "test_processor.plot_pulses(title=\"Contorl pulse for toffoli gate\");"
   ]
  },
  {
   "cell_type": "markdown",
   "metadata": {},
   "source": [
    "## Merging a quantum circuit\n",
    "If there are multiple gates in the circuit, we can choose if we want to first merge them and then find the pulse for the merged unitary."
   ]
  },
  {
   "cell_type": "code",
   "execution_count": 9,
   "metadata": {},
   "outputs": [],
   "source": [
    "qc = QubitCircuit(N=3)\n",
    "qc.add_gate(\"CNOT\", controls=0, targets=2)\n",
    "qc.add_gate(\"RX\", targets=2, arg_value=pi/4)\n",
    "qc.add_gate(\"RY\", targets=1, arg_value=pi/8)"
   ]
  },
  {
   "cell_type": "code",
   "execution_count": 10,
   "metadata": {},
   "outputs": [
    {
     "name": "stdout",
     "output_type": "stream",
     "text": [
      "********** Gate 0 **********\n",
      "Final fidelity error 7.820091826316045e-07\n",
      "Final gradient normal 6.200700753536884e-05\n",
      "Terminated due to function converged\n",
      "Number of iterations 308\n",
      "********** Gate 1 **********\n",
      "Final fidelity error 1.3311574065255627e-13\n",
      "Final gradient normal 1.4306188647696582e-05\n",
      "Terminated due to Goal achieved\n",
      "Number of iterations 10\n",
      "********** Gate 2 **********\n",
      "Final fidelity error 3.0141598106325773e-09\n",
      "Final gradient normal 6.4692744595158e-06\n",
      "Terminated due to function converged\n",
      "Number of iterations 20\n"
     ]
    },
    {
     "data": {
      "image/png": "[encoded data removed]",
      "text/plain": [
       "<Figure size 432x288 with 1 Axes>"
      ]
     },
     "metadata": {
      "needs_background": "light"
     },
     "output_type": "display_data"
    }
   ],
   "source": [
    "setting_args = {\"CNOT\": {\"num_tslots\": 20, \"evo_time\": 3},\n",
    "                \"RX\": {\"num_tslots\": 2, \"evo_time\": 1},\n",
    "                \"RY\": {\"num_tslots\": 2, \"evo_time\": 1}}\n",
    "\n",
    "test_processor.load_circuit(qc, merge_gates=False, setting_args=setting_args, verbose=True);\n",
    "test_processor.plot_pulses(title=\"Control pulse for a each gate in the circuit\");"
   ]
  },
  {
   "cell_type": "markdown",
   "metadata": {},
   "source": [
    "In the above figure, the pulses from $t=0$ to $t=3$ are for the CNOT gate while the rest for are the two single qubits gates. The difference in the frequency of change is merely a result of our choice of `evo_time`. Here we can see that the three gates are carried out in sequence."
   ]
  },
  {
   "cell_type": "code",
   "execution_count": 11,
   "metadata": {},
   "outputs": [
    {
     "name": "stdout",
     "output_type": "stream",
     "text": [
      "********** Gate 0 **********\n",
      "Final fidelity error 1.2703338505559714e-06\n",
      "Final gradient normal 2.106571735774966e-05\n",
      "Terminated due to function converged\n",
      "Number of iterations 227\n"
     ]
    },
    {
     "data": {
      "image/png": "[encoded data removed]",
      "text/plain": [
       "<Figure size 432x288 with 1 Axes>"
      ]
     },
     "metadata": {
      "needs_background": "light"
     },
     "output_type": "display_data"
    }
   ],
   "source": [
    "qc = QubitCircuit(N=3)\n",
    "qc.add_gate(\"CNOT\", controls=0, targets=2)\n",
    "qc.add_gate(\"RX\", targets=2, arg_value=pi/4)\n",
    "qc.add_gate(\"RY\", targets=1, arg_value=pi/8)\n",
    "test_processor.load_circuit(qc, merge_gates=True, verbose=True, num_tslots=20, evo_time=5);\n",
    "test_processor.plot_pulses(title=\"Control pulse for a merged unitary evolution\");"
   ]
  },
  {
   "cell_type": "markdown",
   "metadata": {},
   "source": [
    "In this figure there are no different stages, the three gates are first merged and then the algorithm finds the optimal pulse for the resulting unitary evolution."
   ]
  },
  {
   "cell_type": "code",
   "execution_count": 12,
   "metadata": {},
   "outputs": [
    {
     "data": {
      "text/html": [
       "<table><tr><th>Software</th><th>Version</th></tr><tr><td>QuTiP</td><td>4.5.0.dev0+a6237409</td></tr><tr><td>Numpy</td><td>1.16.5</td></tr><tr><td>SciPy</td><td>1.3.1</td></tr><tr><td>matplotlib</td><td>3.1.1</td></tr><tr><td>Cython</td><td>0.29.13</td></tr><tr><td>Number of CPUs</td><td>4</td></tr><tr><td>BLAS Info</td><td>INTEL MKL</td></tr><tr><td>IPython</td><td>7.8.0</td></tr><tr><td>Python</td><td>3.7.4 (default, Aug  9 2019, 18:34:13) [MSC v.1915 64 bit (AMD64)]</td></tr><tr><td>OS</td><td>nt [win32]</td></tr><tr><td colspan='2'>Fri Oct 25 22:20:07 2019 W. Europe Summer Time</td></tr></table>"
      ],
      "text/plain": [
       "<IPython.core.display.HTML object>"
      ]
     },
     "execution_count": 12,
     "metadata": {},
     "output_type": "execute_result"
    }
   ],
   "source": [
    "from qutip.ipynbtools import version_table\n",
    "version_table()"
   ]
  }
 ],
 "metadata": {
  "kernelspec": {
   "display_name": "Python 3",
   "language": "python",
   "name": "python3"
  },
  "language_info": {
   "codemirror_mode": {
    "name": "ipython",
    "version": 3
   },
   "file_extension": ".py",
   "mimetype": "text/x-python",
   "name": "python",
   "nbconvert_exporter": "python",
   "pygments_lexer": "ipython3",
   "version": "3.7.4"
  }
 },
 "nbformat": 4,
 "nbformat_minor": 2
}
